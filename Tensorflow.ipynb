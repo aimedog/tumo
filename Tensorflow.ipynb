{
 "cells": [
  {
   "cell_type": "code",
   "execution_count": null,
   "metadata": {
    "collapsed": true
   },
   "outputs": [],
   "source": [
    "import tensorflow as tn"
   ]
  },
  {
   "cell_type": "code",
   "execution_count": null,
   "metadata": {
    "collapsed": true
   },
   "outputs": [],
   "source": [
    "cnst = tn.constant(\"Hello world!\")"
   ]
  },
  {
   "cell_type": "code",
   "execution_count": null,
   "metadata": {
    "collapsed": true
   },
   "outputs": [],
   "source": [
    "s = tn.Session()"
   ]
  },
  {
   "cell_type": "code",
   "execution_count": null,
   "metadata": {},
   "outputs": [],
   "source": [
    "s.run(cnst)"
   ]
  },
  {
   "cell_type": "code",
   "execution_count": null,
   "metadata": {
    "collapsed": true
   },
   "outputs": [],
   "source": [
    "with tn.Session() as sess:\n",
    "    x = sess.run(cnst)"
   ]
  },
  {
   "cell_type": "code",
   "execution_count": null,
   "metadata": {},
   "outputs": [],
   "source": [
    "x"
   ]
  },
  {
   "cell_type": "code",
   "execution_count": null,
   "metadata": {
    "collapsed": true
   },
   "outputs": [],
   "source": [
    "x = tn.constant(2)\n",
    "y = tn.constant(3)\n",
    "z = tn.multiply(x,y, name = \"Valod\")"
   ]
  },
  {
   "cell_type": "code",
   "execution_count": null,
   "metadata": {},
   "outputs": [],
   "source": [
    "x"
   ]
  },
  {
   "cell_type": "code",
   "execution_count": null,
   "metadata": {},
   "outputs": [],
   "source": [
    "y"
   ]
  },
  {
   "cell_type": "code",
   "execution_count": null,
   "metadata": {},
   "outputs": [],
   "source": [
    "z"
   ]
  },
  {
   "cell_type": "code",
   "execution_count": null,
   "metadata": {
    "collapsed": true
   },
   "outputs": [],
   "source": [
    "with tn.Session() as s:\n",
    "    v = s.run(x)\n",
    "    h = s.run(y)\n",
    "    g = s.run(z)"
   ]
  },
  {
   "cell_type": "code",
   "execution_count": null,
   "metadata": {},
   "outputs": [],
   "source": [
    "v"
   ]
  },
  {
   "cell_type": "code",
   "execution_count": null,
   "metadata": {},
   "outputs": [],
   "source": [
    "h"
   ]
  },
  {
   "cell_type": "code",
   "execution_count": null,
   "metadata": {},
   "outputs": [],
   "source": [
    "g"
   ]
  },
  {
   "cell_type": "code",
   "execution_count": null,
   "metadata": {},
   "outputs": [],
   "source": [
    "x = tn.get_default_graph()\n",
    "for i in x.get_operations():\n",
    "    print(i)"
   ]
  },
  {
   "cell_type": "code",
   "execution_count": null,
   "metadata": {
    "collapsed": true
   },
   "outputs": [],
   "source": [
    "r = tn.get_default_graph()"
   ]
  },
  {
   "cell_type": "code",
   "execution_count": null,
   "metadata": {},
   "outputs": [],
   "source": [
    "for i in r.get_operations():\n",
    "    print(i)"
   ]
  },
  {
   "cell_type": "code",
   "execution_count": null,
   "metadata": {},
   "outputs": [],
   "source": [
    "10**761"
   ]
  },
  {
   "cell_type": "code",
   "execution_count": null,
   "metadata": {},
   "outputs": [],
   "source": [
    "10**120"
   ]
  },
  {
   "cell_type": "code",
   "execution_count": null,
   "metadata": {},
   "outputs": [],
   "source": [
    "import tensorflow as tn\n",
    "input = tn.constant(3.2)\n",
    "weight = tn.Variable(2.0)\n",
    "output = tn.multiply(input,weight, name = None)\n",
    "with tn.Session() as s:\n",
    "    s.run(tn.global_variables_initializer())\n",
    "    print(s.run(output))\n",
    "    output_ = tn.constant(10.0)\n",
    "    loss = (output - output_)**2\n",
    "    optimizier = tn.train.GradientDescentOptimizer(0.025)\n",
    "    train_step = optimizier.minimize(loss)\n",
    "    for i in range(1,19):\n",
    "        s.run(train_step)\n",
    "        print(\"Step:\"+str(i))\n",
    "        print(s.run(output))\n",
    "        print(s.run(weight))\n",
    "#tn.summary.scalar('weight',weight)\n",
    "#summary_writer.add_sumary(sess.run(summary_weight), i)"
   ]
  },
  {
   "cell_type": "code",
   "execution_count": null,
   "metadata": {},
   "outputs": [
    {
     "name": "stdout",
     "output_type": "stream",
     "text": [
      "[[ 1.        ]\n",
      " [ 0.73195875]\n",
      " [ 0.76288658]\n",
      " [ 0.8041237 ]\n",
      " [ 0.92783505]]\n",
      "-----------------------------------\n",
      "[[ 0.99229759]\n",
      " [ 0.70925349]\n",
      " [ 0.73342156]\n",
      " [ 0.78256524]\n",
      " [ 0.91260135]]\n",
      "-----------------------------------\n",
      "0.000213988\n",
      "-----------------------------------\n",
      "0.0167947\n",
      "-----------------------------------\n",
      "[[ 0.99229759]\n",
      " [ 0.70925349]\n",
      " [ 0.73342156]\n",
      " [ 0.78256524]\n",
      " [ 0.91260135]]\n",
      "Starting TensorBoard b'41' on port 6008\n",
      "(You can navigate to http://37.26.168.26:6008)\n"
     ]
    }
   ],
   "source": [
    "import tensorflow as tn\n",
    "import numpy as np\n",
    "with tn.Graph().as_default() as graphh:\n",
    "    lst = np.array([[10      ,      7],\n",
    "                    [5       ,      4],\n",
    "                    [8       ,      3],\n",
    "                    [2       ,      8],\n",
    "                    [4       ,      8]],dtype = np.float32)\n",
    "    tlst = np.array([[9      ,      1],\n",
    "                    [6       ,      8],\n",
    "                    [1       ,      7],\n",
    "                    [5       ,      3],\n",
    "                    [7       ,      6]],dtype = np.float32)\n",
    "    outlist =  np.array([[97],\n",
    "                        [71],\n",
    "                        [74],\n",
    "                        [78],\n",
    "                        [90]],dtype = np.float32)\n",
    "    toutlist = np.array([[68],\n",
    "                        [95],\n",
    "                        [65],\n",
    "                        [70],\n",
    "                        [82]],dtype = np.float32)\n",
    "    finallst = np.array([[0,9],\n",
    "                        [1,8],\n",
    "                        [2,7],\n",
    "                        [3,6],\n",
    "                        [4,5],\n",
    "                        [5,4],\n",
    "                        [6,3],\n",
    "                        [7,2],\n",
    "                        [8,1],\n",
    "                        [9,0]],dtype = np.float32)\n",
    "    input = tn.placeholder(tn.float32)\n",
    "    output = tn.placeholder(tn.float32)\n",
    "    r = tn.reduce_max(input,0)\n",
    "    r2 = tn.reduce_max(output,0)\n",
    "    normin = input/r\n",
    "    normout = output/r2\n",
    "    feed_dict = {input:lst,output:outlist}\n",
    "    tfeed_dict = {input:tlst,output:toutlist}\n",
    "    finfeed = {input:finallst}\n",
    "    num_neurons_1 = 2 \n",
    "    num_neurons_2 = 10\n",
    "    num_neurons_3 = 1\n",
    "    weights_1 = tn.Variable(tn.random_normal([num_neurons_1,num_neurons_2]),dtype = tn.float32)\n",
    "    bias_1    = tn.Variable(tn.random_normal([num_neurons_3,num_neurons_2]),dtype = tn.float32)\n",
    "    weighted_sums_1 = tn.matmul(lst,weights_1)+bias_1\n",
    "    activation_1 = tn.sigmoid(weighted_sums_1)\n",
    "    weights_2 = tn.Variable(tn.random_normal([num_neurons_2,num_neurons_3]),dtype = tn.float32)\n",
    "    bias_2    = tn.Variable(tn.random_normal([num_neurons_3]),dtype = tn.float32) \n",
    "    weighted_sums_2 = tn.matmul(activation_1,weights_2)+bias_2\n",
    "    activation_2 = tn.sigmoid(weighted_sums_2)\n",
    "    num_examples = 10\n",
    "    loss = (1/num_examples) * tn.reduce_sum((normout - activation_2)**2)\n",
    "    optimizier = tn.train.AdamOptimizer(0.1)\n",
    "    train_step = optimizier.minimize(loss)\n",
    "    with tn.Session() as sess:\n",
    "        sess.run(tn.global_variables_initializer())\n",
    "        lossscalar = tn.summary.scalar(\"Loss\",loss,collections = None)\n",
    "        scalarfile = tn.summary.FileWriter(\"LossFile\",graph = graphh)\n",
    "        for i in range(1,1000):\n",
    "            sess.run(train_step,feed_dict = feed_dict)\n",
    "            scalarfile.add_summary(sess.run(lossscalar,feed_dict = feed_dict),i)\n",
    "        scalarfile.flush()\n",
    "        scalarfile.close()\n",
    "        print(sess.run(normout,feed_dict = feed_dict))\n",
    "        print(\"-----------------------------------\")\n",
    "        print(sess.run(activation_2,feed_dict = feed_dict))\n",
    "        print(\"-----------------------------------\")\n",
    "        print(sess.run(loss,feed_dict = feed_dict))\n",
    "        print(\"-----------------------------------\")\n",
    "        print(sess.run(loss,feed_dict = tfeed_dict))\n",
    "        print(\"-----------------------------------\")\n",
    "        print(sess.run(activation_2,feed_dict = finfeed))\n",
    "        !tensorboard --logdir=\"LossFile\" --port=6008"
   ]
  },
  {
   "cell_type": "code",
   "execution_count": 1,
   "metadata": {
    "collapsed": true
   },
   "outputs": [],
   "source": [
    "!rm -fr \"LossFile\""
   ]
  },
  {
   "cell_type": "code",
   "execution_count": null,
   "metadata": {
    "collapsed": true
   },
   "outputs": [],
   "source": []
  }
 ],
 "metadata": {
  "kernelspec": {
   "display_name": "Python 3",
   "language": "python",
   "name": "python3"
  },
  "language_info": {
   "codemirror_mode": {
    "name": "ipython",
    "version": 3
   },
   "file_extension": ".py",
   "mimetype": "text/x-python",
   "name": "python",
   "nbconvert_exporter": "python",
   "pygments_lexer": "ipython3",
   "version": "3.6.0"
  }
 },
 "nbformat": 4,
 "nbformat_minor": 2
}
