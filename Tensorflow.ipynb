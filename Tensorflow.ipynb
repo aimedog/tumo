{
 "cells": [
  {
   "cell_type": "code",
   "execution_count": 1,
   "metadata": {
    "collapsed": true
   },
   "outputs": [],
   "source": [
    "import tensorflow as tn"
   ]
  },
  {
   "cell_type": "code",
   "execution_count": 2,
   "metadata": {
    "collapsed": true
   },
   "outputs": [],
   "source": [
    "cnst = tn.constant(\"Hello world!\")"
   ]
  },
  {
   "cell_type": "code",
   "execution_count": 3,
   "metadata": {
    "collapsed": true
   },
   "outputs": [],
   "source": [
    "s = tn.Session()"
   ]
  },
  {
   "cell_type": "code",
   "execution_count": 4,
   "metadata": {},
   "outputs": [
    {
     "data": {
      "text/plain": [
       "b'Hello world!'"
      ]
     },
     "execution_count": 4,
     "metadata": {},
     "output_type": "execute_result"
    }
   ],
   "source": [
    "s.run(cnst)"
   ]
  },
  {
   "cell_type": "code",
   "execution_count": 5,
   "metadata": {
    "collapsed": true
   },
   "outputs": [],
   "source": [
    "with tn.Session() as sess:\n",
    "    x = sess.run(cnst)"
   ]
  },
  {
   "cell_type": "code",
   "execution_count": 6,
   "metadata": {},
   "outputs": [
    {
     "data": {
      "text/plain": [
       "b'Hello world!'"
      ]
     },
     "execution_count": 6,
     "metadata": {},
     "output_type": "execute_result"
    }
   ],
   "source": [
    "x"
   ]
  },
  {
   "cell_type": "code",
   "execution_count": 7,
   "metadata": {
    "collapsed": true
   },
   "outputs": [],
   "source": [
    "x = tn.constant(2)\n",
    "y = tn.constant(3)\n",
    "z = tn.multiply(x,y, name = \"Valod\")"
   ]
  },
  {
   "cell_type": "code",
   "execution_count": 8,
   "metadata": {},
   "outputs": [
    {
     "data": {
      "text/plain": [
       "<tf.Tensor 'Const_1:0' shape=() dtype=int32>"
      ]
     },
     "execution_count": 8,
     "metadata": {},
     "output_type": "execute_result"
    }
   ],
   "source": [
    "x"
   ]
  },
  {
   "cell_type": "code",
   "execution_count": 9,
   "metadata": {},
   "outputs": [
    {
     "data": {
      "text/plain": [
       "<tf.Tensor 'Const_2:0' shape=() dtype=int32>"
      ]
     },
     "execution_count": 9,
     "metadata": {},
     "output_type": "execute_result"
    }
   ],
   "source": [
    "y"
   ]
  },
  {
   "cell_type": "code",
   "execution_count": 10,
   "metadata": {},
   "outputs": [
    {
     "data": {
      "text/plain": [
       "<tf.Tensor 'Valod:0' shape=() dtype=int32>"
      ]
     },
     "execution_count": 10,
     "metadata": {},
     "output_type": "execute_result"
    }
   ],
   "source": [
    "z"
   ]
  },
  {
   "cell_type": "code",
   "execution_count": 11,
   "metadata": {
    "collapsed": true
   },
   "outputs": [],
   "source": [
    "with tn.Session() as s:\n",
    "    v = s.run(x)\n",
    "    h = s.run(y)\n",
    "    g = s.run(z)"
   ]
  },
  {
   "cell_type": "code",
   "execution_count": 12,
   "metadata": {},
   "outputs": [
    {
     "data": {
      "text/plain": [
       "2"
      ]
     },
     "execution_count": 12,
     "metadata": {},
     "output_type": "execute_result"
    }
   ],
   "source": [
    "v"
   ]
  },
  {
   "cell_type": "code",
   "execution_count": 13,
   "metadata": {},
   "outputs": [
    {
     "data": {
      "text/plain": [
       "3"
      ]
     },
     "execution_count": 13,
     "metadata": {},
     "output_type": "execute_result"
    }
   ],
   "source": [
    "h"
   ]
  },
  {
   "cell_type": "code",
   "execution_count": 14,
   "metadata": {},
   "outputs": [
    {
     "data": {
      "text/plain": [
       "6"
      ]
     },
     "execution_count": 14,
     "metadata": {},
     "output_type": "execute_result"
    }
   ],
   "source": [
    "g"
   ]
  },
  {
   "cell_type": "code",
   "execution_count": 15,
   "metadata": {},
   "outputs": [
    {
     "name": "stdout",
     "output_type": "stream",
     "text": [
      "name: \"Const\"\n",
      "op: \"Const\"\n",
      "attr {\n",
      "  key: \"dtype\"\n",
      "  value {\n",
      "    type: DT_STRING\n",
      "  }\n",
      "}\n",
      "attr {\n",
      "  key: \"value\"\n",
      "  value {\n",
      "    tensor {\n",
      "      dtype: DT_STRING\n",
      "      tensor_shape {\n",
      "      }\n",
      "      string_val: \"Hello world!\"\n",
      "    }\n",
      "  }\n",
      "}\n",
      "\n",
      "name: \"Const_1\"\n",
      "op: \"Const\"\n",
      "attr {\n",
      "  key: \"dtype\"\n",
      "  value {\n",
      "    type: DT_INT32\n",
      "  }\n",
      "}\n",
      "attr {\n",
      "  key: \"value\"\n",
      "  value {\n",
      "    tensor {\n",
      "      dtype: DT_INT32\n",
      "      tensor_shape {\n",
      "      }\n",
      "      int_val: 2\n",
      "    }\n",
      "  }\n",
      "}\n",
      "\n",
      "name: \"Const_2\"\n",
      "op: \"Const\"\n",
      "attr {\n",
      "  key: \"dtype\"\n",
      "  value {\n",
      "    type: DT_INT32\n",
      "  }\n",
      "}\n",
      "attr {\n",
      "  key: \"value\"\n",
      "  value {\n",
      "    tensor {\n",
      "      dtype: DT_INT32\n",
      "      tensor_shape {\n",
      "      }\n",
      "      int_val: 3\n",
      "    }\n",
      "  }\n",
      "}\n",
      "\n",
      "name: \"Valod\"\n",
      "op: \"Mul\"\n",
      "input: \"Const_1\"\n",
      "input: \"Const_2\"\n",
      "attr {\n",
      "  key: \"T\"\n",
      "  value {\n",
      "    type: DT_INT32\n",
      "  }\n",
      "}\n",
      "\n"
     ]
    }
   ],
   "source": [
    "x = tn.get_default_graph()\n",
    "for i in x.get_operations():\n",
    "    print(i)"
   ]
  },
  {
   "cell_type": "code",
   "execution_count": 16,
   "metadata": {
    "collapsed": true
   },
   "outputs": [],
   "source": [
    "r = tn.get_default_graph()"
   ]
  },
  {
   "cell_type": "code",
   "execution_count": 17,
   "metadata": {},
   "outputs": [
    {
     "name": "stdout",
     "output_type": "stream",
     "text": [
      "name: \"Const\"\n",
      "op: \"Const\"\n",
      "attr {\n",
      "  key: \"dtype\"\n",
      "  value {\n",
      "    type: DT_STRING\n",
      "  }\n",
      "}\n",
      "attr {\n",
      "  key: \"value\"\n",
      "  value {\n",
      "    tensor {\n",
      "      dtype: DT_STRING\n",
      "      tensor_shape {\n",
      "      }\n",
      "      string_val: \"Hello world!\"\n",
      "    }\n",
      "  }\n",
      "}\n",
      "\n",
      "name: \"Const_1\"\n",
      "op: \"Const\"\n",
      "attr {\n",
      "  key: \"dtype\"\n",
      "  value {\n",
      "    type: DT_INT32\n",
      "  }\n",
      "}\n",
      "attr {\n",
      "  key: \"value\"\n",
      "  value {\n",
      "    tensor {\n",
      "      dtype: DT_INT32\n",
      "      tensor_shape {\n",
      "      }\n",
      "      int_val: 2\n",
      "    }\n",
      "  }\n",
      "}\n",
      "\n",
      "name: \"Const_2\"\n",
      "op: \"Const\"\n",
      "attr {\n",
      "  key: \"dtype\"\n",
      "  value {\n",
      "    type: DT_INT32\n",
      "  }\n",
      "}\n",
      "attr {\n",
      "  key: \"value\"\n",
      "  value {\n",
      "    tensor {\n",
      "      dtype: DT_INT32\n",
      "      tensor_shape {\n",
      "      }\n",
      "      int_val: 3\n",
      "    }\n",
      "  }\n",
      "}\n",
      "\n",
      "name: \"Valod\"\n",
      "op: \"Mul\"\n",
      "input: \"Const_1\"\n",
      "input: \"Const_2\"\n",
      "attr {\n",
      "  key: \"T\"\n",
      "  value {\n",
      "    type: DT_INT32\n",
      "  }\n",
      "}\n",
      "\n"
     ]
    }
   ],
   "source": [
    "for i in r.get_operations():\n",
    "    print(i)"
   ]
  },
  {
   "cell_type": "code",
   "execution_count": 18,
   "metadata": {},
   "outputs": [
    {
     "data": {
      "text/plain": [
       "100000000000000000000000000000000000000000000000000000000000000000000000000000000000000000000000000000000000000000000000000000000000000000000000000000000000000000000000000000000000000000000000000000000000000000000000000000000000000000000000000000000000000000000000000000000000000000000000000000000000000000000000000000000000000000000000000000000000000000000000000000000000000000000000000000000000000000000000000000000000000000000000000000000000000000000000000000000000000000000000000000000000000000000000000000000000000000000000000000000000000000000000000000000000000000000000000000000000000000000000000000000000000000000000000000000000000000000000000000000000000000000000000000000000000000000000000000000000000000000000000000000000000000000000000000000000000000"
      ]
     },
     "execution_count": 18,
     "metadata": {},
     "output_type": "execute_result"
    }
   ],
   "source": [
    "10**761"
   ]
  },
  {
   "cell_type": "code",
   "execution_count": 19,
   "metadata": {},
   "outputs": [
    {
     "data": {
      "text/plain": [
       "1000000000000000000000000000000000000000000000000000000000000000000000000000000000000000000000000000000000000000000000000"
      ]
     },
     "execution_count": 19,
     "metadata": {},
     "output_type": "execute_result"
    }
   ],
   "source": [
    "10**120"
   ]
  },
  {
   "cell_type": "code",
   "execution_count": 20,
   "metadata": {},
   "outputs": [
    {
     "name": "stdout",
     "output_type": "stream",
     "text": [
      "6.4\n",
      "Step:1\n",
      "8.2432\n",
      "2.576\n",
      "Step:2\n",
      "9.14268\n",
      "2.85709\n",
      "Step:3\n",
      "9.58163\n",
      "2.99426\n",
      "Step:4\n",
      "9.79583\n",
      "3.0612\n",
      "Step:5\n",
      "9.90037\n",
      "3.09386\n",
      "Step:6\n",
      "9.95138\n",
      "3.10981\n",
      "Step:7\n",
      "9.97627\n",
      "3.11759\n",
      "Step:8\n",
      "9.98842\n",
      "3.12138\n",
      "Step:9\n",
      "9.99435\n",
      "3.12323\n",
      "Step:10\n",
      "9.99724\n",
      "3.12414\n",
      "Step:11\n",
      "9.99865\n",
      "3.12458\n",
      "Step:12\n",
      "9.99934\n",
      "3.12479\n",
      "Step:13\n",
      "9.99968\n",
      "3.1249\n",
      "Step:14\n",
      "9.99984\n",
      "3.12495\n",
      "Step:15\n",
      "9.99992\n",
      "3.12498\n",
      "Step:16\n",
      "9.99996\n",
      "3.12499\n",
      "Step:17\n",
      "9.99998\n",
      "3.12499\n",
      "Step:18\n",
      "9.99999\n",
      "3.125\n"
     ]
    }
   ],
   "source": [
    "import tensorflow as tn\n",
    "input = tn.constant(3.2)\n",
    "weight = tn.Variable(2.0)\n",
    "output = tn.multiply(input,weight, name = None)\n",
    "with tn.Session() as s:\n",
    "    s.run(tn.global_variables_initializer())\n",
    "    print(s.run(output))\n",
    "    output_ = tn.constant(10.0)\n",
    "    loss = (output - output_)**2\n",
    "    optimizier = tn.train.GradientDescentOptimizer(0.025)\n",
    "    train_step = optimizier.minimize(loss)\n",
    "    for i in range(1,19):\n",
    "        s.run(train_step)\n",
    "        print(\"Step:\"+str(i))\n",
    "        print(s.run(output))\n",
    "        print(s.run(weight))\n",
    "#tn.summary.scalar('weight',weight)\n",
    "#summary_writer.add_sumary(sess.run(summary_weight), i)"
   ]
  },
  {
   "cell_type": "code",
   "execution_count": 48,
   "metadata": {},
   "outputs": [
    {
     "name": "stdout",
     "output_type": "stream",
     "text": [
      "[[ 1.        ]\n",
      " [ 0.73195875]\n",
      " [ 0.76288658]\n",
      " [ 0.8041237 ]\n",
      " [ 0.92783505]\n",
      " [ 0.70103091]\n",
      " [ 0.97938144]\n",
      " [ 0.67010307]\n",
      " [ 0.72164947]\n",
      " [ 0.84536082]]\n",
      "[[ 0.9091624 ]\n",
      " [ 0.91135937]\n",
      " [ 0.96793211]\n",
      " [ 0.60548097]\n",
      " [ 0.60645992]\n",
      " [ 0.98327833]\n",
      " [ 0.69534212]\n",
      " [ 0.62322444]\n",
      " [ 0.94485056]\n",
      " [ 0.89723963]]\n",
      "3.55271e-16\n"
     ]
    }
   ],
   "source": [
    "import tensorflow as tn\n",
    "import numpy as np\n",
    "with tn.Graph().as_default() as graph:\n",
    "    lst = np.array([[10       ,      7],\n",
    "                    [5       ,      4],\n",
    "                    [8       ,      3],\n",
    "                    [2       ,      8],\n",
    "                    [4       ,      8],\n",
    "                    [9       ,      1],\n",
    "                    [6       ,      8],\n",
    "                    [1       ,      7],\n",
    "                    [5       ,      3],\n",
    "                    [7       ,      6]],dtype = np.float32)\n",
    "    outlist =  np.array([[97],\n",
    "                        [71],\n",
    "                        [74],\n",
    "                        [78],\n",
    "                        [90],\n",
    "                        [68],\n",
    "                        [95],\n",
    "                        [65],\n",
    "                        [70],\n",
    "                        [82]],dtype = np.float32)\n",
    "    input = tn.placeholder(tn.float32)\n",
    "    output = tn.placeholder(tn.float32)\n",
    "    r = tn.reduce_max(input,0)\n",
    "    r2 = tn.reduce_max(output,0)\n",
    "    normin = input/r\n",
    "    normout = output/r2\n",
    "    feed_dict = {input:lst,output:outlist}\n",
    "    num_neurons_1 = 2 \n",
    "    num_neurons_2 = 10\n",
    "    num_neurons_3 = 1\n",
    "    weights_1 = tn.Variable(tn.random_normal([num_neurons_1,num_neurons_2]),dtype = tn.float32)\n",
    "    bias_1    = tn.Variable(tn.random_normal([num_neurons_3,num_neurons_2]),dtype = tn.float32)\n",
    "    weighted_sums_1 = tn.matmul(lst,weights_1)+bias_1\n",
    "    activation_1 = tn.sigmoid(weighted_sums_1)\n",
    "    weights_2 = tn.Variable(tn.random_normal([num_neurons_2,num_neurons_3]),dtype = tn.float32)\n",
    "    bias_2    = tn.Variable(tn.random_normal([num_neurons_3]),dtype = tn.float32) \n",
    "    weighted_sums_2 = tn.matmul(activation_1,weights_2)+bias_2\n",
    "    activation_2 = tn.sigmoid(weighted_sums_2)\n",
    "    num_examples = 10\n",
    "    loss = (1/num_examples) * tn.reduce_sum(normout - activation_2)**2\n",
    "    optimizier = tn.train.ProximalGradientDescentOptimizer(0.27)\n",
    "    train_step = optimizier.minimize(loss)\n",
    "    with tn.Session() as sess:\n",
    "        sess.run(tn.global_variables_initializer())\n",
    "        for i in range(1,10000):\n",
    "            sess.run(train_step,feed_dict = feed_dict)\n",
    "        #!tensorboard --logdir=\"get\" --port=6007\n",
    "        print(sess.run(normout,feed_dict = feed_dict))\n",
    "        print(sess.run(activation_2,feed_dict = feed_dict))\n",
    "        print(sess.run(loss,feed_dict = feed_dict))"
   ]
  },
  {
   "cell_type": "code",
   "execution_count": null,
   "metadata": {
    "collapsed": true
   },
   "outputs": [],
   "source": []
  }
 ],
 "metadata": {
  "kernelspec": {
   "display_name": "Python 3",
   "language": "python",
   "name": "python3"
  },
  "language_info": {
   "codemirror_mode": {
    "name": "ipython",
    "version": 3
   },
   "file_extension": ".py",
   "mimetype": "text/x-python",
   "name": "python",
   "nbconvert_exporter": "python",
   "pygments_lexer": "ipython3",
   "version": "3.6.0"
  }
 },
 "nbformat": 4,
 "nbformat_minor": 2
}
