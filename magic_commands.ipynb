{
 "cells": [
  {
   "cell_type": "markdown",
   "metadata": {
    "deletable": true,
    "editable": true
   },
   "source": [
    "# magic commands"
   ]
  },
  {
   "cell_type": "markdown",
   "metadata": {
    "deletable": true,
    "editable": true
   },
   "source": [
    "### To find out the absolute pathname of your directory type `%pwd`\n",
    "\n",
    "`%pwd` ցույց է տալիս ներկա աշխատանքային դիրեկտորիան"
   ]
  },
  {
   "cell_type": "code",
   "execution_count": 1,
   "metadata": {
    "collapsed": false,
    "deletable": true,
    "editable": true
   },
   "outputs": [
    {
     "data": {
      "text/plain": [
       "'/home/s161024000102'"
      ]
     },
     "execution_count": 1,
     "metadata": {},
     "output_type": "execute_result"
    }
   ],
   "source": [
    "%pwd"
   ]
  },
  {
   "cell_type": "markdown",
   "metadata": {
    "deletable": true,
    "editable": true
   },
   "source": [
    "### To find out what files are in your home directory, type `%ls` (list)\n",
    "    \n",
    "`%ls` command lists the contents of your current working directory\n",
    "\n",
    "`%ls` ցույց է տալիս ֆայլերի ցանկը տվյալ `%pwd`-ում\n"
   ]
  },
  {
   "cell_type": "code",
   "execution_count": 2,
   "metadata": {
    "collapsed": false,
    "deletable": true,
    "editable": true,
    "slideshow": {
     "slide_type": "-"
    }
   },
   "outputs": [
    {
     "name": "stdout",
     "output_type": "stream",
     "text": [
      "data.txt                    magic_commands.ipynb\r\n",
      "downloader.ipynb            markdown.ipynb\r\n",
      "ex1.py                      matplotlib_library.ipynb\r\n",
      "example_code.py             matplotlib_library.ipynb.1\r\n",
      "example.txt                 numpy.ipynb\r\n",
      "git-github.ipynb            numpy.ipynb.1\r\n",
      "Homework.ipynb              numpy-tutorial-solved.ipynb\r\n",
      "lamdba_function.ipynb       numpy-tutorial-solved.ipynb.1\r\n",
      "Lecture-4-Matplotlib.ipynb  Python.py\r\n",
      "Lesson 13.ipynb             \u001b[0m\u001b[01;34mTensorFlow-Examples\u001b[0m/\r\n",
      "Lesson 1.ipynb              text.txt\r\n",
      "Lesson 2.ipynb              therepublic.txt\r\n",
      "Lesson 5.ipynb              words.txt\r\n"
     ]
    }
   ],
   "source": [
    "%ls"
   ]
  },
  {
   "cell_type": "markdown",
   "metadata": {
    "deletable": true,
    "editable": true
   },
   "source": [
    "\n",
    "### To list the files with specific `ipynb` ending type\n",
    "\n",
    "    `%ls *.ipynb`"
   ]
  },
  {
   "cell_type": "code",
   "execution_count": 3,
   "metadata": {
    "collapsed": false,
    "deletable": true,
    "editable": true
   },
   "outputs": [
    {
     "name": "stdout",
     "output_type": "stream",
     "text": [
      "downloader.ipynb            Lesson 13.ipynb       markdown.ipynb\r\n",
      "git-github.ipynb            Lesson 1.ipynb        matplotlib_library.ipynb\r\n",
      "Homework.ipynb              Lesson 2.ipynb        numpy.ipynb\r\n",
      "lamdba_function.ipynb       Lesson 5.ipynb        numpy-tutorial-solved.ipynb\r\n",
      "Lecture-4-Matplotlib.ipynb  magic_commands.ipynb\r\n"
     ]
    }
   ],
   "source": [
    "%ls *.ipynb"
   ]
  },
  {
   "cell_type": "markdown",
   "metadata": {
    "deletable": true,
    "editable": true
   },
   "source": [
    "### `%cd` (change directory) command\n",
    "\n",
    "`cd` - change directory, փոխել դիրեկտորիան\n",
    "\n",
    "`%cd ..` - go up one directory, բարձրանալ մեկ դիրեկտորիա\n",
    "\n",
    "to go to a specific folder\n",
    "\n",
    "`%cd C:\\Users\\training\\Downloads\\WinPython-32bit-3.3.5.0\\`\n"
   ]
  },
  {
   "cell_type": "raw",
   "metadata": {
    "collapsed": false,
    "deletable": true,
    "editable": true
   },
   "source": [
    "%cd Z:\\PyTraining6\\pytraining\n",
    "\n",
    "%ls"
   ]
  },
  {
   "cell_type": "markdown",
   "metadata": {
    "deletable": true,
    "editable": true
   },
   "source": [
    "### To make a directory type `%mkdir folderName`\n",
    "\n",
    "`%mkdir data` - make directory with name `data`, ստեղծել դիրեկտորիա, որի անունը `data` է\n"
   ]
  },
  {
   "cell_type": "raw",
   "metadata": {
    "collapsed": false,
    "deletable": true,
    "editable": true
   },
   "source": [
    "%mkdir data\n",
    "\n",
    "%ls"
   ]
  },
  {
   "cell_type": "code",
   "execution_count": 4,
   "metadata": {
    "collapsed": false,
    "deletable": true,
    "editable": true
   },
   "outputs": [
    {
     "name": "stdout",
     "output_type": "stream",
     "text": [
      "[Errno 2] No such file or directory: 'Z:PyTraining6pytrainingdata'\n",
      "/home/s161024000102\n"
     ]
    }
   ],
   "source": [
    "%pwd\n",
    "%cd Z:\\PyTraining6\\pytraining\\data"
   ]
  },
  {
   "cell_type": "markdown",
   "metadata": {
    "deletable": true,
    "editable": true
   },
   "source": [
    "### To make a file inside `pwd` type `%%writefile fileName` and below your code\n",
    "\n",
    "Նոր ֆայլ ստեղծելու համար օգտագործեք `%%writefile` հրամանը\n",
    "\n",
    "`%%writefile fileName`, որտեղ երկրորդ պառամետրը դա ստեղծվող ֆայլի անունն է\n",
    "\n",
    "`%%writefile fileName` հրամանի հաջորդ տողում գրեք դզեր կոդը, որը կհայտնվի դզեր `fileName`-ի մեջ"
   ]
  },
  {
   "cell_type": "code",
   "execution_count": 5,
   "metadata": {
    "collapsed": false,
    "deletable": true,
    "editable": true
   },
   "outputs": [
    {
     "name": "stdout",
     "output_type": "stream",
     "text": [
      "Writing foo.py\n"
     ]
    }
   ],
   "source": [
    "%%writefile foo.py\n",
    "print('Hello world')\n",
    "name = input('Enter your name: ')\n",
    "print(\"-------------------\")\n",
    "print('Your name is', name)"
   ]
  },
  {
   "cell_type": "markdown",
   "metadata": {
    "deletable": true,
    "editable": true
   },
   "source": [
    "Ստուգեք արդյոք ֆայլը ստեղծվել է օգտագործելով `%ls foo.py`"
   ]
  },
  {
   "cell_type": "code",
   "execution_count": 6,
   "metadata": {
    "collapsed": false,
    "deletable": true,
    "editable": true
   },
   "outputs": [
    {
     "name": "stdout",
     "output_type": "stream",
     "text": [
      "foo.py\r\n"
     ]
    }
   ],
   "source": [
    "%ls foo.py"
   ]
  },
  {
   "cell_type": "markdown",
   "metadata": {
    "deletable": true,
    "editable": true
   },
   "source": [
    "`%load file_name` - ցույց տուր ֆայլի պարունակությունը"
   ]
  },
  {
   "cell_type": "code",
   "execution_count": 7,
   "metadata": {
    "collapsed": false,
    "deletable": true,
    "editable": true
   },
   "outputs": [
    {
     "name": "stdout",
     "output_type": "stream",
     "text": [
      "Hello world\n",
      "Enter your name: --------------\n",
      "-------------------\n",
      "Your name is --------------\n"
     ]
    }
   ],
   "source": [
    "# %load foo.py\n",
    "print('Hello world')\n",
    "name = input('Enter your name: ')\n",
    "print(\"-------------------\")\n",
    "print('Your name is', name)"
   ]
  },
  {
   "cell_type": "markdown",
   "metadata": {
    "deletable": true,
    "editable": true
   },
   "source": [
    "Աշխատացրեք ֆայլը օգտագործելով `%run fileName` հրամանը"
   ]
  },
  {
   "cell_type": "code",
   "execution_count": null,
   "metadata": {
    "collapsed": false,
    "deletable": true,
    "editable": true
   },
   "outputs": [
    {
     "name": "stdout",
     "output_type": "stream",
     "text": [
      "Hello world\n",
      "Enter your name: Name\n",
      "-------------------\n",
      "Your name is Name\n"
     ]
    }
   ],
   "source": [
    "%run foo.py"
   ]
  },
  {
   "cell_type": "markdown",
   "metadata": {
    "deletable": true,
    "editable": true
   },
   "source": [
    "Մեկ այլ տարբերակ աշխատացնելու համար կոդը `!python fileName`"
   ]
  },
  {
   "cell_type": "code",
   "execution_count": null,
   "metadata": {
    "collapsed": false,
    "deletable": true,
    "editable": true
   },
   "outputs": [],
   "source": [
    "!python foo.py"
   ]
  },
  {
   "cell_type": "markdown",
   "metadata": {
    "deletable": true,
    "editable": true
   },
   "source": [
    "### List of basic magic commands\n",
    "\n",
    "|Command      | Description|\n",
    "|----         |------------------|\n",
    "|%ls          |list files and directories|\n",
    "|%ls -a       | list all files and directories|\n",
    "|%mkdir directoryName      |make a directory|\n",
    "|%cd directory| change to named directory|\n",
    "|%cd ..       |change to parent directory|\n",
    "|%pwd         |display the path of the current directory|\n",
    "|%run fileName|execute the code named fileName|"
   ]
  },
  {
   "cell_type": "code",
   "execution_count": null,
   "metadata": {
    "collapsed": true,
    "deletable": true,
    "editable": true
   },
   "outputs": [],
   "source": []
  }
 ],
 "metadata": {
  "kernelspec": {
   "display_name": "Python 3",
   "language": "python",
   "name": "python3"
  },
  "language_info": {
   "codemirror_mode": {
    "name": "ipython",
    "version": 3
   },
   "file_extension": ".py",
   "mimetype": "text/x-python",
   "name": "python",
   "nbconvert_exporter": "python",
   "pygments_lexer": "ipython3",
   "version": "3.6.0"
  }
 },
 "nbformat": 4,
 "nbformat_minor": 0
}
