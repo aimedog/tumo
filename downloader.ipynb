{
 "cells": [
  {
   "cell_type": "code",
   "execution_count": 1,
   "metadata": {
    "collapsed": false,
    "deletable": true,
    "editable": true
   },
   "outputs": [
    {
     "name": "stdout",
     "output_type": "stream",
     "text": [
      "--2017-04-05 20:12:32--  https://raw.githubusercontent.com/tumregels/tumo-tf/master/git-github.ipynb\n",
      "Resolving raw.githubusercontent.com (raw.githubusercontent.com)... 151.101.12.133\n",
      "Connecting to raw.githubusercontent.com (raw.githubusercontent.com)|151.101.12.133|:443... connected.\n",
      "HTTP request sent, awaiting response... 200 OK\n",
      "Length: 14886 (15K) [text/plain]\n",
      "Saving to: ‘git-github.ipynb’\n",
      "\n",
      "git-github.ipynb    100%[===================>]  14.54K  --.-KB/s    in 0.06s   \n",
      "\n",
      "2017-04-05 20:12:32 (243 KB/s) - ‘git-github.ipynb’ saved [14886/14886]\n",
      "\n"
     ]
    }
   ],
   "source": [
    "!wget https://raw.githubusercontent.com/tumregels/tumo-tf/master/git-github.ipynb"
   ]
  },
  {
   "cell_type": "code",
   "execution_count": 1,
   "metadata": {
    "collapsed": false,
    "deletable": true,
    "editable": true
   },
   "outputs": [
    {
     "name": "stdout",
     "output_type": "stream",
     "text": [
      "--2017-04-07 22:09:25--  https://raw.githubusercontent.com/tumregels/pytraining/mic1/lesson4/magic_commands.ipynb\n",
      "Resolving raw.githubusercontent.com (raw.githubusercontent.com)... 151.101.12.133\n",
      "Connecting to raw.githubusercontent.com (raw.githubusercontent.com)|151.101.12.133|:443... connected.\n",
      "HTTP request sent, awaiting response... 200 OK\n",
      "Length: 8247 (8.1K) [text/plain]\n",
      "Saving to: ‘magic_commands.ipynb’\n",
      "\n",
      "magic_commands.ipyn 100%[===================>]   8.05K  --.-KB/s    in 0s      \n",
      "\n",
      "2017-04-07 22:09:25 (27.6 MB/s) - ‘magic_commands.ipynb’ saved [8247/8247]\n",
      "\n"
     ]
    }
   ],
   "source": [
    "!wget https://raw.githubusercontent.com/tumregels/pytraining/mic1/lesson4/magic_commands.ipynb"
   ]
  },
  {
   "cell_type": "code",
   "execution_count": 2,
   "metadata": {
    "collapsed": false,
    "deletable": true,
    "editable": true
   },
   "outputs": [
    {
     "name": "stdout",
     "output_type": "stream",
     "text": [
      "Cloning into 'Lecture-7-Revision-Control-Software.ipynb'...\n",
      "fatal: repository 'https://raw.githubusercontent.com/jrjohansson/scientific-python-lectures/master/Lecture-7-Revision-Control-Software.ipynb/' not found\n"
     ]
    }
   ],
   "source": [
    "!git clone https://raw.githubusercontent.com/jrjohansson/scientific-python-lectures/master/Lecture-7-Revision-Control-Software.ipynb"
   ]
  },
  {
   "cell_type": "code",
   "execution_count": 3,
   "metadata": {
    "collapsed": false,
    "deletable": true,
    "editable": true
   },
   "outputs": [
    {
     "name": "stdout",
     "output_type": "stream",
     "text": [
      "--2017-04-07 22:09:29--  https://raw.githubusercontent.com/tumregels/pytraining/mic1/lesson8/markdown.ipynb\n",
      "Resolving raw.githubusercontent.com (raw.githubusercontent.com)... 151.101.12.133\n",
      "Connecting to raw.githubusercontent.com (raw.githubusercontent.com)|151.101.12.133|:443... connected.\n",
      "HTTP request sent, awaiting response... 200 OK\n",
      "Length: 7149 (7.0K) [text/plain]\n",
      "Saving to: ‘markdown.ipynb’\n",
      "\n",
      "markdown.ipynb      100%[===================>]   6.98K  --.-KB/s    in 0s      \n",
      "\n",
      "2017-04-07 22:09:29 (54.0 MB/s) - ‘markdown.ipynb’ saved [7149/7149]\n",
      "\n"
     ]
    }
   ],
   "source": [
    "!wget https://raw.githubusercontent.com/tumregels/pytraining/mic1/lesson8/markdown.ipynb"
   ]
  },
  {
   "cell_type": "code",
   "execution_count": 4,
   "metadata": {
    "collapsed": false,
    "deletable": true,
    "editable": true
   },
   "outputs": [
    {
     "name": "stdout",
     "output_type": "stream",
     "text": [
      "--2017-04-07 22:09:29--  https://raw.githubusercontent.com/tumregels/pytraining/mic1/lesson8/lamdba_function.ipynb\n",
      "Resolving raw.githubusercontent.com (raw.githubusercontent.com)... 151.101.12.133\n",
      "Connecting to raw.githubusercontent.com (raw.githubusercontent.com)|151.101.12.133|:443... connected.\n",
      "HTTP request sent, awaiting response... 200 OK\n",
      "Length: 4851 (4.7K) [text/plain]\n",
      "Saving to: ‘lamdba_function.ipynb’\n",
      "\n",
      "lamdba_function.ipy 100%[===================>]   4.74K  --.-KB/s    in 0s      \n",
      "\n",
      "2017-04-07 22:09:30 (35.7 MB/s) - ‘lamdba_function.ipynb’ saved [4851/4851]\n",
      "\n"
     ]
    }
   ],
   "source": [
    "!wget https://raw.githubusercontent.com/tumregels/pytraining/mic1/lesson8/lamdba_function.ipynb"
   ]
  },
  {
   "cell_type": "code",
   "execution_count": 5,
   "metadata": {
    "collapsed": false,
    "deletable": true,
    "editable": true,
    "scrolled": true
   },
   "outputs": [
    {
     "name": "stdout",
     "output_type": "stream",
     "text": [
      "--2017-04-07 22:09:30--  https://raw.githubusercontent.com/tumregels/tumo-tf/master/numpy.ipynb\n",
      "Resolving raw.githubusercontent.com (raw.githubusercontent.com)... 151.101.12.133\n",
      "Connecting to raw.githubusercontent.com (raw.githubusercontent.com)|151.101.12.133|:443... connected.\n",
      "HTTP request sent, awaiting response... 200 OK\n",
      "Length: 13735 (13K) [text/plain]\n",
      "Saving to: ‘numpy.ipynb.1’\n",
      "\n",
      "numpy.ipynb.1       100%[===================>]  13.41K  --.-KB/s    in 0.06s   \n",
      "\n",
      "2017-04-07 22:09:30 (225 KB/s) - ‘numpy.ipynb.1’ saved [13735/13735]\n",
      "\n"
     ]
    }
   ],
   "source": [
    "!wget https://raw.githubusercontent.com/tumregels/tumo-tf/master/numpy.ipynb"
   ]
  },
  {
   "cell_type": "code",
   "execution_count": 6,
   "metadata": {
    "collapsed": false,
    "deletable": true,
    "editable": true
   },
   "outputs": [
    {
     "name": "stdout",
     "output_type": "stream",
     "text": [
      "--2017-04-07 22:09:31--  https://raw.githubusercontent.com/gertingold/euroscipy16-numpy-tutorial/master/numpy-tutorial-solved.ipynb\n",
      "Resolving raw.githubusercontent.com (raw.githubusercontent.com)... 151.101.12.133\n",
      "Connecting to raw.githubusercontent.com (raw.githubusercontent.com)|151.101.12.133|:443... connected.\n",
      "HTTP request sent, awaiting response... 200 OK\n",
      "Length: 1582753 (1.5M) [text/plain]\n",
      "Saving to: ‘numpy-tutorial-solved.ipynb.1’\n",
      "\n",
      "numpy-tutorial-solv 100%[===================>]   1.51M  1.99MB/s    in 0.8s    \n",
      "\n",
      "2017-04-07 22:09:32 (1.99 MB/s) - ‘numpy-tutorial-solved.ipynb.1’ saved [1582753/1582753]\n",
      "\n"
     ]
    }
   ],
   "source": [
    "!wget https://raw.githubusercontent.com/gertingold/euroscipy16-numpy-tutorial/master/numpy-tutorial-solved.ipynb"
   ]
  },
  {
   "cell_type": "code",
   "execution_count": 7,
   "metadata": {
    "collapsed": false,
    "deletable": true,
    "editable": true
   },
   "outputs": [
    {
     "name": "stdout",
     "output_type": "stream",
     "text": [
      "--2017-04-07 22:09:32--  https://raw.githubusercontent.com/tumregels/pytraining/mic1/lesson4/matplotlib_library.ipynb\n",
      "Resolving raw.githubusercontent.com (raw.githubusercontent.com)... 151.101.12.133\n",
      "Connecting to raw.githubusercontent.com (raw.githubusercontent.com)|151.101.12.133|:443... connected.\n",
      "HTTP request sent, awaiting response... 200 OK\n",
      "Length: 91375 (89K) [text/plain]\n",
      "Saving to: ‘matplotlib_library.ipynb.1’\n",
      "\n",
      "matplotlib_library. 100%[===================>]  89.23K   569KB/s    in 0.2s    \n",
      "\n",
      "2017-04-07 22:09:33 (569 KB/s) - ‘matplotlib_library.ipynb.1’ saved [91375/91375]\n",
      "\n"
     ]
    }
   ],
   "source": [
    "!wget https://raw.githubusercontent.com/tumregels/pytraining/mic1/lesson4/matplotlib_library.ipynb"
   ]
  },
  {
   "cell_type": "code",
   "execution_count": 8,
   "metadata": {
    "collapsed": false,
    "deletable": true,
    "editable": true
   },
   "outputs": [
    {
     "name": "stdout",
     "output_type": "stream",
     "text": [
      "--2017-04-07 22:09:33--  https://github.com/jrjohansson/scientific-python-lectures/raw/master/Lecture-4-Matplotlib.ipynb\n",
      "Resolving github.com (github.com)... 192.30.253.113, 192.30.253.112\n",
      "Connecting to github.com (github.com)|192.30.253.113|:443... connected.\n",
      "HTTP request sent, awaiting response... 302 Found\n",
      "Location: https://raw.githubusercontent.com/jrjohansson/scientific-python-lectures/master/Lecture-4-Matplotlib.ipynb [following]\n",
      "--2017-04-07 22:09:34--  https://raw.githubusercontent.com/jrjohansson/scientific-python-lectures/master/Lecture-4-Matplotlib.ipynb\n",
      "Resolving raw.githubusercontent.com (raw.githubusercontent.com)... 151.101.12.133\n",
      "Connecting to raw.githubusercontent.com (raw.githubusercontent.com)|151.101.12.133|:443... connected.\n",
      "HTTP request sent, awaiting response... 200 OK\n",
      "Length: 1755099 (1.7M) [text/plain]\n",
      "Saving to: ‘Lecture-4-Matplotlib.ipynb’\n",
      "\n",
      "Lecture-4-Matplotli 100%[===================>]   1.67M  3.47MB/s    in 0.5s    \n",
      "\n",
      "2017-04-07 22:09:35 (3.47 MB/s) - ‘Lecture-4-Matplotlib.ipynb’ saved [1755099/1755099]\n",
      "\n"
     ]
    }
   ],
   "source": [
    "!wget https://github.com/jrjohansson/scientific-python-lectures/raw/master/Lecture-4-Matplotlib.ipynb"
   ]
  },
  {
   "cell_type": "code",
   "execution_count": 9,
   "metadata": {
    "collapsed": false,
    "deletable": true,
    "editable": true
   },
   "outputs": [
    {
     "name": "stdout",
     "output_type": "stream",
     "text": [
      "fatal: destination path 'TensorFlow-Examples' already exists and is not an empty directory.\r\n"
     ]
    }
   ],
   "source": [
    "!git clone https://github.com/aymericdamien/TensorFlow-Examples.git"
   ]
  },
  {
   "cell_type": "code",
   "execution_count": null,
   "metadata": {
    "collapsed": true,
    "deletable": true,
    "editable": true
   },
   "outputs": [],
   "source": []
  },
  {
   "cell_type": "code",
   "execution_count": null,
   "metadata": {
    "collapsed": true
   },
   "outputs": [],
   "source": []
  }
 ],
 "metadata": {
  "kernelspec": {
   "display_name": "Python 3",
   "language": "python",
   "name": "python3"
  },
  "language_info": {
   "codemirror_mode": {
    "name": "ipython",
    "version": 3
   },
   "file_extension": ".py",
   "mimetype": "text/x-python",
   "name": "python",
   "nbconvert_exporter": "python",
   "pygments_lexer": "ipython3",
   "version": "3.6.0"
  }
 },
 "nbformat": 4,
 "nbformat_minor": 2
}
